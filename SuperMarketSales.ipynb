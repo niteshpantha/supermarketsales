{
 "cells": [
  {
   "cell_type": "code",
   "execution_count": 1,
   "id": "23b7af4c",
   "metadata": {},
   "outputs": [],
   "source": [
    "import numpy as np\n",
    "import pandas as pd"
   ]
  },
  {
   "cell_type": "code",
   "execution_count": 5,
   "id": "e7da5d11",
   "metadata": {},
   "outputs": [
    {
     "data": {
      "text/html": [
       "<div>\n",
       "<style scoped>\n",
       "    .dataframe tbody tr th:only-of-type {\n",
       "        vertical-align: middle;\n",
       "    }\n",
       "\n",
       "    .dataframe tbody tr th {\n",
       "        vertical-align: top;\n",
       "    }\n",
       "\n",
       "    .dataframe thead th {\n",
       "        text-align: right;\n",
       "    }\n",
       "</style>\n",
       "<table border=\"1\" class=\"dataframe\">\n",
       "  <thead>\n",
       "    <tr style=\"text-align: right;\">\n",
       "      <th></th>\n",
       "      <th>sale_id</th>\n",
       "      <th>branch</th>\n",
       "      <th>city</th>\n",
       "      <th>customer_type</th>\n",
       "      <th>gender</th>\n",
       "      <th>product_name</th>\n",
       "      <th>product_category</th>\n",
       "      <th>unit_price</th>\n",
       "      <th>quantity</th>\n",
       "      <th>tax</th>\n",
       "      <th>total_price</th>\n",
       "      <th>reward_points</th>\n",
       "    </tr>\n",
       "  </thead>\n",
       "  <tbody>\n",
       "    <tr>\n",
       "      <th>0</th>\n",
       "      <td>1</td>\n",
       "      <td>A</td>\n",
       "      <td>New York</td>\n",
       "      <td>Member</td>\n",
       "      <td>Male</td>\n",
       "      <td>Shampoo</td>\n",
       "      <td>Personal Care</td>\n",
       "      <td>5.50</td>\n",
       "      <td>3</td>\n",
       "      <td>1.16</td>\n",
       "      <td>17.66</td>\n",
       "      <td>1</td>\n",
       "    </tr>\n",
       "    <tr>\n",
       "      <th>1</th>\n",
       "      <td>2</td>\n",
       "      <td>B</td>\n",
       "      <td>Los Angeles</td>\n",
       "      <td>Normal</td>\n",
       "      <td>Female</td>\n",
       "      <td>Notebook</td>\n",
       "      <td>Stationery</td>\n",
       "      <td>2.75</td>\n",
       "      <td>10</td>\n",
       "      <td>1.93</td>\n",
       "      <td>29.43</td>\n",
       "      <td>0</td>\n",
       "    </tr>\n",
       "    <tr>\n",
       "      <th>2</th>\n",
       "      <td>3</td>\n",
       "      <td>A</td>\n",
       "      <td>New York</td>\n",
       "      <td>Member</td>\n",
       "      <td>Female</td>\n",
       "      <td>Apple</td>\n",
       "      <td>Fruits</td>\n",
       "      <td>1.20</td>\n",
       "      <td>15</td>\n",
       "      <td>1.26</td>\n",
       "      <td>19.26</td>\n",
       "      <td>1</td>\n",
       "    </tr>\n",
       "    <tr>\n",
       "      <th>3</th>\n",
       "      <td>4</td>\n",
       "      <td>A</td>\n",
       "      <td>Chicago</td>\n",
       "      <td>Normal</td>\n",
       "      <td>Male</td>\n",
       "      <td>Detergent</td>\n",
       "      <td>Household</td>\n",
       "      <td>7.80</td>\n",
       "      <td>5</td>\n",
       "      <td>2.73</td>\n",
       "      <td>41.73</td>\n",
       "      <td>0</td>\n",
       "    </tr>\n",
       "    <tr>\n",
       "      <th>4</th>\n",
       "      <td>5</td>\n",
       "      <td>B</td>\n",
       "      <td>Los Angeles</td>\n",
       "      <td>Member</td>\n",
       "      <td>Female</td>\n",
       "      <td>Orange Juice</td>\n",
       "      <td>Beverages</td>\n",
       "      <td>3.50</td>\n",
       "      <td>7</td>\n",
       "      <td>1.72</td>\n",
       "      <td>26.22</td>\n",
       "      <td>2</td>\n",
       "    </tr>\n",
       "  </tbody>\n",
       "</table>\n",
       "</div>"
      ],
      "text/plain": [
       "   sale_id branch         city customer_type  gender  product_name  \\\n",
       "0        1      A     New York        Member    Male       Shampoo   \n",
       "1        2      B  Los Angeles        Normal  Female      Notebook   \n",
       "2        3      A     New York        Member  Female         Apple   \n",
       "3        4      A      Chicago        Normal    Male     Detergent   \n",
       "4        5      B  Los Angeles        Member  Female  Orange Juice   \n",
       "\n",
       "  product_category  unit_price  quantity   tax  total_price  reward_points  \n",
       "0    Personal Care        5.50         3  1.16        17.66              1  \n",
       "1       Stationery        2.75        10  1.93        29.43              0  \n",
       "2           Fruits        1.20        15  1.26        19.26              1  \n",
       "3        Household        7.80         5  2.73        41.73              0  \n",
       "4        Beverages        3.50         7  1.72        26.22              2  "
      ]
     },
     "execution_count": 5,
     "metadata": {},
     "output_type": "execute_result"
    }
   ],
   "source": [
    "df = pd.read_csv(\"/home/nitesh/Documents/superMarketSales/sales.csv\")\n",
    "df.head()"
   ]
  },
  {
   "cell_type": "code",
   "execution_count": 8,
   "id": "05f026b6",
   "metadata": {},
   "outputs": [
    {
     "data": {
      "text/html": [
       "<div>\n",
       "<style scoped>\n",
       "    .dataframe tbody tr th:only-of-type {\n",
       "        vertical-align: middle;\n",
       "    }\n",
       "\n",
       "    .dataframe tbody tr th {\n",
       "        vertical-align: top;\n",
       "    }\n",
       "\n",
       "    .dataframe thead th {\n",
       "        text-align: right;\n",
       "    }\n",
       "</style>\n",
       "<table border=\"1\" class=\"dataframe\">\n",
       "  <thead>\n",
       "    <tr style=\"text-align: right;\">\n",
       "      <th></th>\n",
       "      <th>sale_id</th>\n",
       "      <th>branch</th>\n",
       "      <th>city</th>\n",
       "      <th>customer_type</th>\n",
       "      <th>gender</th>\n",
       "      <th>product_name</th>\n",
       "      <th>product_category</th>\n",
       "      <th>unit_price</th>\n",
       "      <th>quantity</th>\n",
       "      <th>tax</th>\n",
       "      <th>total_price</th>\n",
       "      <th>reward_points</th>\n",
       "    </tr>\n",
       "  </thead>\n",
       "  <tbody>\n",
       "    <tr>\n",
       "      <th>0</th>\n",
       "      <td>False</td>\n",
       "      <td>False</td>\n",
       "      <td>False</td>\n",
       "      <td>False</td>\n",
       "      <td>False</td>\n",
       "      <td>False</td>\n",
       "      <td>False</td>\n",
       "      <td>False</td>\n",
       "      <td>False</td>\n",
       "      <td>False</td>\n",
       "      <td>False</td>\n",
       "      <td>False</td>\n",
       "    </tr>\n",
       "    <tr>\n",
       "      <th>1</th>\n",
       "      <td>False</td>\n",
       "      <td>False</td>\n",
       "      <td>False</td>\n",
       "      <td>False</td>\n",
       "      <td>False</td>\n",
       "      <td>False</td>\n",
       "      <td>False</td>\n",
       "      <td>False</td>\n",
       "      <td>False</td>\n",
       "      <td>False</td>\n",
       "      <td>False</td>\n",
       "      <td>False</td>\n",
       "    </tr>\n",
       "    <tr>\n",
       "      <th>2</th>\n",
       "      <td>False</td>\n",
       "      <td>False</td>\n",
       "      <td>False</td>\n",
       "      <td>False</td>\n",
       "      <td>False</td>\n",
       "      <td>False</td>\n",
       "      <td>False</td>\n",
       "      <td>False</td>\n",
       "      <td>False</td>\n",
       "      <td>False</td>\n",
       "      <td>False</td>\n",
       "      <td>False</td>\n",
       "    </tr>\n",
       "    <tr>\n",
       "      <th>3</th>\n",
       "      <td>False</td>\n",
       "      <td>False</td>\n",
       "      <td>False</td>\n",
       "      <td>False</td>\n",
       "      <td>False</td>\n",
       "      <td>False</td>\n",
       "      <td>False</td>\n",
       "      <td>False</td>\n",
       "      <td>False</td>\n",
       "      <td>False</td>\n",
       "      <td>False</td>\n",
       "      <td>False</td>\n",
       "    </tr>\n",
       "    <tr>\n",
       "      <th>4</th>\n",
       "      <td>False</td>\n",
       "      <td>False</td>\n",
       "      <td>False</td>\n",
       "      <td>False</td>\n",
       "      <td>False</td>\n",
       "      <td>False</td>\n",
       "      <td>False</td>\n",
       "      <td>False</td>\n",
       "      <td>False</td>\n",
       "      <td>False</td>\n",
       "      <td>False</td>\n",
       "      <td>False</td>\n",
       "    </tr>\n",
       "  </tbody>\n",
       "</table>\n",
       "</div>"
      ],
      "text/plain": [
       "   sale_id  branch   city  customer_type  gender  product_name  \\\n",
       "0    False   False  False          False   False         False   \n",
       "1    False   False  False          False   False         False   \n",
       "2    False   False  False          False   False         False   \n",
       "3    False   False  False          False   False         False   \n",
       "4    False   False  False          False   False         False   \n",
       "\n",
       "   product_category  unit_price  quantity    tax  total_price  reward_points  \n",
       "0             False       False     False  False        False          False  \n",
       "1             False       False     False  False        False          False  \n",
       "2             False       False     False  False        False          False  \n",
       "3             False       False     False  False        False          False  \n",
       "4             False       False     False  False        False          False  "
      ]
     },
     "execution_count": 8,
     "metadata": {},
     "output_type": "execute_result"
    }
   ],
   "source": [
    "df.isna().head()"
   ]
  },
  {
   "cell_type": "code",
   "execution_count": 10,
   "id": "7e97cb37",
   "metadata": {},
   "outputs": [
    {
     "data": {
      "text/plain": [
       "sale_id             0\n",
       "branch              0\n",
       "city                0\n",
       "customer_type       0\n",
       "gender              0\n",
       "product_name        0\n",
       "product_category    0\n",
       "unit_price          0\n",
       "quantity            0\n",
       "tax                 0\n",
       "total_price         0\n",
       "reward_points       0\n",
       "dtype: int64"
      ]
     },
     "execution_count": 10,
     "metadata": {},
     "output_type": "execute_result"
    }
   ],
   "source": [
    "df.isna().sum()"
   ]
  },
  {
   "cell_type": "code",
   "execution_count": 18,
   "id": "1c2b32a2",
   "metadata": {},
   "outputs": [
    {
     "data": {
      "text/plain": [
       "sale_id               int64\n",
       "branch               object\n",
       "city                 object\n",
       "customer_type        object\n",
       "gender               object\n",
       "product_name         object\n",
       "product_category     object\n",
       "unit_price          float64\n",
       "quantity              int64\n",
       "tax                 float64\n",
       "total_price         float64\n",
       "reward_points         int64\n",
       "dtype: object"
      ]
     },
     "execution_count": 18,
     "metadata": {},
     "output_type": "execute_result"
    }
   ],
   "source": [
    "df.dtypes"
   ]
  },
  {
   "cell_type": "code",
   "execution_count": 25,
   "id": "7cd8416f",
   "metadata": {},
   "outputs": [
    {
     "data": {
      "text/plain": [
       "0"
      ]
     },
     "execution_count": 25,
     "metadata": {},
     "output_type": "execute_result"
    }
   ],
   "source": [
    "df.duplicated().sum()"
   ]
  },
  {
   "cell_type": "code",
   "execution_count": 29,
   "id": "0e690f1d",
   "metadata": {},
   "outputs": [
    {
     "data": {
      "text/plain": [
       "(1000, 12)"
      ]
     },
     "execution_count": 29,
     "metadata": {},
     "output_type": "execute_result"
    }
   ],
   "source": [
    "df.shape"
   ]
  }
 ],
 "metadata": {
  "kernelspec": {
   "display_name": "Python 3 (ipykernel)",
   "language": "python",
   "name": "python3"
  },
  "language_info": {
   "codemirror_mode": {
    "name": "ipython",
    "version": 3
   },
   "file_extension": ".py",
   "mimetype": "text/x-python",
   "name": "python",
   "nbconvert_exporter": "python",
   "pygments_lexer": "ipython3",
   "version": "3.10.12"
  }
 },
 "nbformat": 4,
 "nbformat_minor": 5
}
